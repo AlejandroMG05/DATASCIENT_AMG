{
 "cells": [
  {
   "cell_type": "markdown",
   "metadata": {},
   "source": [
    "Análisis exploratorio de una fermentación Fed-batch para producción de levadura comercial\n",
    "\n",
    "Este cuaderno muestra algunas herramientas adquiridas en el curso de análisis exploratorio de datos\n",
    "que ayudan en el proceso del entendimiento de resultados y desempeño de una fermentación de lote alimentado usando mieles de caña de azúcar y úrea para producir levadura comercial de panadería.\n",
    "\n",
    "Estos datos son obtenidos desde la unidad de control de un biorreactor a escala piloto donde es realizado este proceso.\n",
    "\n",
    "Este trabajo es realizado por los estudiantes de la maestría en ingeniería en modalidad de investigación Alejandro Martínez y Luis Vásquez."
   ]
  },
  {
   "cell_type": "code",
   "execution_count": 1,
   "metadata": {},
   "outputs": [],
   "source": [
    "# Como primer paso importamos las liberías que son necesarias para la lectura de datos, acciones de preparación de los datos y demás liberías que permitan su visualización \n",
    "import pandas as pd\n"
   ]
  },
  {
   "cell_type": "code",
   "execution_count": 3,
   "metadata": {},
   "outputs": [
    {
     "data": {
      "text/plain": [
       "<bound method DataFrame.info of      Date,Time,AT-101,AT-102,CO2,DENSIDAD,FLUJO,FT-101,LT-101,NIVEL_ACTIVAR,NIVEL_ANTIESPU,O2,PT-101,Q_O2,Q_CO2,RQ,SE-101,SET_POINT_GAS,SUSTRATO,SUSTRATO2,SV-101,TE-101,TE-102,TE-103,TE-106,,,,,,,,,,,\n",
       "0     12/14/2023,13:24:26,14.875,21.25000191,0.72400...                                                                                                                                                 \n",
       "1     12/14/2023,13:24:56,14.875,21.25000191,0.71634...                                                                                                                                                 \n",
       "2     12/14/2023,13:25:26,14.875,21.25000191,0.65188...                                                                                                                                                 \n",
       "3     12/14/2023,13:25:56,14.875,21.25000191,0.45908...                                                                                                                                                 \n",
       "4     12/14/2023,13:26:26,14.875,21.25000191,0.26600...                                                                                                                                                 \n",
       "...                                                 ...                                                                                                                                                 \n",
       "2351  12/15/2023,9:00:12,6.02349997,7.4550004,0.3475...                                                                                                                                                 \n",
       "2352  12/15/2023,9:00:42,6.04275036,7.41500044,0.350...                                                                                                                                                 \n",
       "2353  12/15/2023,9:01:12,5.99725008,7.38875055,0.352...                                                                                                                                                 \n",
       "2354  12/15/2023,9:01:42,6.00862503,7.44375038,0.349...                                                                                                                                                 \n",
       "2355  12/15/2023,9:02:12,5.99025011,7.41500044,0.348...                                                                                                                                                 \n",
       "\n",
       "[2356 rows x 1 columns]>"
      ]
     },
     "execution_count": 3,
     "metadata": {},
     "output_type": "execute_result"
    }
   ],
   "source": [
    "#Continuamos con el cargue de el dataset\n",
    "LP13= pd.read_csv('DATOSLP13DEA.csv', sep=';', encoding=\"latin1\")\n",
    "#Luego de cargar el dataset, se hace una revisión preliminar de los datos\n",
    "LP13.info"
   ]
  },
  {
   "cell_type": "code",
   "execution_count": 4,
   "metadata": {},
   "outputs": [
    {
     "data": {
      "text/html": [
       "<div>\n",
       "<style scoped>\n",
       "    .dataframe tbody tr th:only-of-type {\n",
       "        vertical-align: middle;\n",
       "    }\n",
       "\n",
       "    .dataframe tbody tr th {\n",
       "        vertical-align: top;\n",
       "    }\n",
       "\n",
       "    .dataframe thead th {\n",
       "        text-align: right;\n",
       "    }\n",
       "</style>\n",
       "<table border=\"1\" class=\"dataframe\">\n",
       "  <thead>\n",
       "    <tr style=\"text-align: right;\">\n",
       "      <th></th>\n",
       "      <th>Date,Time,AT-101,AT-102,CO2,DENSIDAD,FLUJO,FT-101,LT-101,NIVEL_ACTIVAR,NIVEL_ANTIESPU,O2,PT-101,Q_O2,Q_CO2,RQ,SE-101,SET_POINT_GAS,SUSTRATO,SUSTRATO2,SV-101,TE-101,TE-102,TE-103,TE-106,,,,,,,,,,,</th>\n",
       "    </tr>\n",
       "  </thead>\n",
       "  <tbody>\n",
       "    <tr>\n",
       "      <th>0</th>\n",
       "      <td>12/14/2023,13:24:26,14.875,21.25000191,0.72400...</td>\n",
       "    </tr>\n",
       "    <tr>\n",
       "      <th>1</th>\n",
       "      <td>12/14/2023,13:24:56,14.875,21.25000191,0.71634...</td>\n",
       "    </tr>\n",
       "    <tr>\n",
       "      <th>2</th>\n",
       "      <td>12/14/2023,13:25:26,14.875,21.25000191,0.65188...</td>\n",
       "    </tr>\n",
       "    <tr>\n",
       "      <th>3</th>\n",
       "      <td>12/14/2023,13:25:56,14.875,21.25000191,0.45908...</td>\n",
       "    </tr>\n",
       "    <tr>\n",
       "      <th>4</th>\n",
       "      <td>12/14/2023,13:26:26,14.875,21.25000191,0.26600...</td>\n",
       "    </tr>\n",
       "  </tbody>\n",
       "</table>\n",
       "</div>"
      ],
      "text/plain": [
       "  Date,Time,AT-101,AT-102,CO2,DENSIDAD,FLUJO,FT-101,LT-101,NIVEL_ACTIVAR,NIVEL_ANTIESPU,O2,PT-101,Q_O2,Q_CO2,RQ,SE-101,SET_POINT_GAS,SUSTRATO,SUSTRATO2,SV-101,TE-101,TE-102,TE-103,TE-106,,,,,,,,,,,\n",
       "0  12/14/2023,13:24:26,14.875,21.25000191,0.72400...                                                                                                                                                 \n",
       "1  12/14/2023,13:24:56,14.875,21.25000191,0.71634...                                                                                                                                                 \n",
       "2  12/14/2023,13:25:26,14.875,21.25000191,0.65188...                                                                                                                                                 \n",
       "3  12/14/2023,13:25:56,14.875,21.25000191,0.45908...                                                                                                                                                 \n",
       "4  12/14/2023,13:26:26,14.875,21.25000191,0.26600...                                                                                                                                                 "
      ]
     },
     "execution_count": 4,
     "metadata": {},
     "output_type": "execute_result"
    }
   ],
   "source": [
    "#Podemos comprobar nuevamente el contenido de los datos con la siguiente linea\n",
    "LP13.head()"
   ]
  },
  {
   "cell_type": "code",
   "execution_count": null,
   "metadata": {},
   "outputs": [],
   "source": []
  }
 ],
 "metadata": {
  "kernelspec": {
   "display_name": "Python 3",
   "language": "python",
   "name": "python3"
  },
  "language_info": {
   "codemirror_mode": {
    "name": "ipython",
    "version": 3
   },
   "file_extension": ".py",
   "mimetype": "text/x-python",
   "name": "python",
   "nbconvert_exporter": "python",
   "pygments_lexer": "ipython3",
   "version": "3.11.8"
  }
 },
 "nbformat": 4,
 "nbformat_minor": 2
}
